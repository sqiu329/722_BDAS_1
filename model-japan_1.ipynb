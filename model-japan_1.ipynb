{
 "cells": [
  {
   "cell_type": "code",
   "execution_count": null,
   "metadata": {},
   "outputs": [],
   "source": []
  },
  {
   "cell_type": "code",
   "execution_count": 1,
   "metadata": {},
   "outputs": [],
   "source": [
    "# Must be included at the beginning of each new notebook. Remember to change the app name.\n",
    "import findspark\n",
    "findspark.init('/home/ubuntu/spark-2.1.1-bin-hadoop2.7')\n",
    "import pyspark\n",
    "from pyspark.sql import SparkSession\n",
    "spark = SparkSession.builder.appName('722-model').getOrCreate()"
   ]
  },
  {
   "cell_type": "code",
   "execution_count": 2,
   "metadata": {
    "scrolled": true
   },
   "outputs": [
    {
     "name": "stdout",
     "output_type": "stream",
     "text": [
      "root\n",
      " |-- adm0_id: integer (nullable = true)\n",
      " |-- adm0_name: string (nullable = true)\n",
      " |-- adm1_id: integer (nullable = true)\n",
      " |-- adm1_name: string (nullable = true)\n",
      " |-- mkt_id: integer (nullable = true)\n",
      " |-- mkt_name: string (nullable = true)\n",
      " |-- cm_id: integer (nullable = true)\n",
      " |-- cm_name: string (nullable = true)\n",
      " |-- cur_id: integer (nullable = true)\n",
      " |-- cur_name: string (nullable = true)\n",
      " |-- pt_id: integer (nullable = true)\n",
      " |-- pt_name: string (nullable = true)\n",
      " |-- um_id: integer (nullable = true)\n",
      " |-- um_name: string (nullable = true)\n",
      " |-- mp_month: integer (nullable = true)\n",
      " |-- mp_year: integer (nullable = true)\n",
      " |-- mp_price_RMB: double (nullable = true)\n",
      "\n"
     ]
    }
   ],
   "source": [
    "data1= spark.read.csv(\"./data_japan.csv\", header=True, inferSchema=True)\n",
    "data1.printSchema()"
   ]
  },
  {
   "cell_type": "code",
   "execution_count": 3,
   "metadata": {},
   "outputs": [],
   "source": [
    "from pyspark.ml.linalg import Vectors\n",
    "from pyspark.ml.feature import VectorAssembler\n",
    "assembler = VectorAssembler(\n",
    "  inputCols=['mp_price_RMB'],\n",
    "              outputCol=\"features\")\n",
    "output = assembler.transform(data1)\n",
    "from pyspark.ml.feature import StringIndexer\n",
    "indexer = StringIndexer(inputCol=\"cm_name\", outputCol=\"PrivateIndex\")\n",
    "output_fixed = indexer.fit(output).transform(output)\n",
    "final_data = output_fixed.select(\"features\",'PrivateIndex')"
   ]
  },
  {
   "cell_type": "code",
   "execution_count": 4,
   "metadata": {},
   "outputs": [],
   "source": [
    "from pyspark.ml.classification import DecisionTreeClassifier,GBTClassifier,RandomForestClassifier\n",
    "from pyspark.ml import Pipeline\n",
    "dtc = DecisionTreeClassifier(labelCol='PrivateIndex',featuresCol='features')\n",
    "train_data,test_data = final_data.randomSplit([0.7,0.3])\n",
    "dtc_model = dtc.fit(train_data)\n",
    "dtc_predictions = dtc_model.transform(test_data)"
   ]
  },
  {
   "cell_type": "code",
   "execution_count": null,
   "metadata": {},
   "outputs": [],
   "source": []
  },
  {
   "cell_type": "code",
   "execution_count": 5,
   "metadata": {},
   "outputs": [],
   "source": [
    "# Let's start off with binary classification.\n",
    "from pyspark.ml.evaluation import BinaryClassificationEvaluator\n",
    "\n",
    "# Note that the label column isn't named label, it's named PrivateIndex in this case.\n",
    "my_binary_eval = BinaryClassificationEvaluator(labelCol = 'PrivateIndex')"
   ]
  },
  {
   "cell_type": "code",
   "execution_count": 6,
   "metadata": {},
   "outputs": [
    {
     "name": "stdout",
     "output_type": "stream",
     "text": [
      "DTC\n",
      "0.5649700598802396\n"
     ]
    }
   ],
   "source": [
    "print(\"DTC\")\n",
    "print(my_binary_eval.evaluate(dtc_predictions))"
   ]
  },
  {
   "cell_type": "code",
   "execution_count": 7,
   "metadata": {},
   "outputs": [
    {
     "name": "stdout",
     "output_type": "stream",
     "text": [
      "+-------------------+------------+--------------------+--------------------+----------+\n",
      "|           features|PrivateIndex|       rawPrediction|         probability|prediction|\n",
      "+-------------------+------------+--------------------+--------------------+----------+\n",
      "|[7.823999999999999]|         3.0|[0.0,0.0,3.0,65.0...|[0.0,0.0,0.027272...|       3.0|\n",
      "|[8.149999999999999]|         6.0|[0.0,0.0,3.0,65.0...|[0.0,0.0,0.027272...|       3.0|\n",
      "|[8.475999999999999]|         3.0|[0.0,0.0,3.0,65.0...|[0.0,0.0,0.027272...|       3.0|\n",
      "|           [8.6716]|         6.0|[0.0,0.0,3.0,65.0...|[0.0,0.0,0.027272...|       3.0|\n",
      "|           [8.9324]|         3.0|[0.0,0.0,3.0,65.0...|[0.0,0.0,0.027272...|       3.0|\n",
      "|[8.997599999999998]|         3.0|[0.0,0.0,3.0,65.0...|[0.0,0.0,0.027272...|       3.0|\n",
      "|           [9.0628]|         6.0|[0.0,0.0,3.0,65.0...|[0.0,0.0,0.027272...|       3.0|\n",
      "|[9.323599999999999]|         6.0|[0.0,0.0,3.0,65.0...|[0.0,0.0,0.027272...|       3.0|\n",
      "|[9.453999999999999]|         6.0|[0.0,0.0,3.0,65.0...|[0.0,0.0,0.027272...|       3.0|\n",
      "|[9.453999999999999]|         6.0|[0.0,0.0,3.0,65.0...|[0.0,0.0,0.027272...|       3.0|\n",
      "|[9.453999999999999]|         6.0|[0.0,0.0,3.0,65.0...|[0.0,0.0,0.027272...|       3.0|\n",
      "|[9.584399999999999]|         6.0|[0.0,0.0,3.0,65.0...|[0.0,0.0,0.027272...|       3.0|\n",
      "|           [9.6496]|         6.0|[0.0,0.0,3.0,65.0...|[0.0,0.0,0.027272...|       3.0|\n",
      "|[9.714799999999999]|         3.0|[0.0,0.0,3.0,65.0...|[0.0,0.0,0.027272...|       3.0|\n",
      "|[9.714799999999999]|         6.0|[0.0,0.0,3.0,65.0...|[0.0,0.0,0.027272...|       3.0|\n",
      "|[9.714799999999999]|         6.0|[0.0,0.0,3.0,65.0...|[0.0,0.0,0.027272...|       3.0|\n",
      "|             [9.78]|         3.0|[0.0,0.0,3.0,65.0...|[0.0,0.0,0.027272...|       3.0|\n",
      "|[9.845199999999998]|         3.0|[0.0,0.0,3.0,65.0...|[0.0,0.0,0.027272...|       3.0|\n",
      "|           [9.9104]|         6.0|[0.0,0.0,3.0,65.0...|[0.0,0.0,0.027272...|       3.0|\n",
      "|[9.975599999999998]|         6.0|[0.0,0.0,3.0,65.0...|[0.0,0.0,0.027272...|       3.0|\n",
      "+-------------------+------------+--------------------+--------------------+----------+\n",
      "only showing top 20 rows\n",
      "\n",
      "----------------------------------------\n",
      "A single decision tree has an accuracy of: 78.43%\n"
     ]
    }
   ],
   "source": [
    "dtc_predictions.show()\n",
    "from pyspark.ml.evaluation import MulticlassClassificationEvaluator\n",
    "acc_evaluator = MulticlassClassificationEvaluator(labelCol=\"PrivateIndex\", predictionCol=\"prediction\", metricName=\"accuracy\")\n",
    "dtc_acc = acc_evaluator.evaluate(dtc_predictions)\n",
    "print('-'*40)\n",
    "print('A single decision tree has an accuracy of: {0:2.2f}%'.format(dtc_acc*100))\n"
   ]
  },
  {
   "cell_type": "code",
   "execution_count": 8,
   "metadata": {
    "scrolled": true
   },
   "outputs": [
    {
     "name": "stdout",
     "output_type": "stream",
     "text": [
      "+--------------------+------------+\n",
      "|            features|PrivateIndex|\n",
      "+--------------------+------------+\n",
      "|          [139.4628]|         1.0|\n",
      "|           [136.268]|         1.0|\n",
      "|          [137.9632]|         1.0|\n",
      "|[134.70319999999998]|         1.0|\n",
      "|[136.85479999999998]|         1.0|\n",
      "|[134.70319999999998]|         1.0|\n",
      "|          [147.2216]|         1.0|\n",
      "|[146.11319999999998]|         1.0|\n",
      "|[149.89479999999998]|         1.0|\n",
      "|          [148.7864]|         1.0|\n",
      "|           [147.678]|         1.0|\n",
      "|[147.80839999999998]|         1.0|\n",
      "|[149.95999999999998]|         1.0|\n",
      "|          [150.4816]|         1.0|\n",
      "|          [153.0896]|         1.0|\n",
      "|          [154.7848]|         1.0|\n",
      "|[155.82799999999997]|         1.0|\n",
      "|[155.37159999999997]|         1.0|\n",
      "|          [159.5444]|         1.0|\n",
      "|[160.13119999999998]|         1.0|\n",
      "+--------------------+------------+\n",
      "only showing top 20 rows\n",
      "\n",
      "+--------------------+\n",
      "|             cm_name|\n",
      "+--------------------+\n",
      "|Wheat flour - Retail|\n",
      "|      Sugar - Retail|\n",
      "|    Cabbage - Retail|\n",
      "|   Potatoes - Retail|\n",
      "|       Milk - Retail|\n",
      "|Rice (glutinous, ...|\n",
      "|       Rice - Retail|\n",
      "|     Radish - Retail|\n",
      "+--------------------+\n",
      "\n",
      "+------------+\n",
      "|PrivateIndex|\n",
      "+------------+\n",
      "|         0.0|\n",
      "|         7.0|\n",
      "|         1.0|\n",
      "|         4.0|\n",
      "|         3.0|\n",
      "|         2.0|\n",
      "|         6.0|\n",
      "|         5.0|\n",
      "+------------+\n",
      "\n"
     ]
    }
   ],
   "source": [
    "from pyspark.sql import SparkSession\n",
    "from pyspark.sql import Row\n",
    "from pyspark.sql.types import *\n",
    "from pyspark.sql.functions import *\n",
    "final_data.show()\n",
    "data1.select('cm_name').distinct().show()\n",
    "final_data.select('PrivateIndex').distinct().show()"
   ]
  },
  {
   "cell_type": "code",
   "execution_count": 15,
   "metadata": {},
   "outputs": [
    {
     "name": "stdout",
     "output_type": "stream",
     "text": [
      "DecisionTreeClassificationModel (uid=DecisionTreeClassifier_4d93a6c17cb9d39467bc) of depth 5 with 37 nodes\n",
      "  If (feature 0 <= 5.9136)\n",
      "   If (feature 0 <= 3.0864)\n",
      "    If (feature 0 <= 2.7312)\n",
      "     If (feature 0 <= 1.3374)\n",
      "      Predict: 1.0\n",
      "     Else (feature 0 > 1.3374)\n",
      "      If (feature 0 <= 1.8696)\n",
      "       Predict: 2.0\n",
      "      Else (feature 0 > 1.8696)\n",
      "       Predict: 1.0\n",
      "    Else (feature 0 > 2.7312)\n",
      "     If (feature 0 <= 2.891904)\n",
      "      Predict: 4.0\n",
      "     Else (feature 0 > 2.891904)\n",
      "      Predict: 2.0\n",
      "   Else (feature 0 > 3.0864)\n",
      "    If (feature 0 <= 4.8)\n",
      "     If (feature 0 <= 4.08)\n",
      "      If (feature 0 <= 3.39374424)\n",
      "       Predict: 4.0\n",
      "      Else (feature 0 > 3.39374424)\n",
      "       Predict: 4.0\n",
      "     Else (feature 0 > 4.08)\n",
      "      Predict: 4.0\n",
      "    Else (feature 0 > 4.8)\n",
      "     Predict: 4.0\n",
      "  Else (feature 0 > 5.9136)\n",
      "   If (feature 0 <= 15.5784)\n",
      "    If (feature 0 <= 6.84)\n",
      "     Predict: 5.0\n",
      "    Else (feature 0 > 6.84)\n",
      "     If (feature 0 <= 12.336)\n",
      "      If (feature 0 <= 11.2008)\n",
      "       Predict: 0.0\n",
      "      Else (feature 0 > 11.2008)\n",
      "       Predict: 3.0\n",
      "     Else (feature 0 > 12.336)\n",
      "      If (feature 0 <= 13.548)\n",
      "       Predict: 0.0\n",
      "      Else (feature 0 > 13.548)\n",
      "       Predict: 0.0\n",
      "   Else (feature 0 > 15.5784)\n",
      "    If (feature 0 <= 18.6408)\n",
      "     If (feature 0 <= 17.5992)\n",
      "      If (feature 0 <= 16.536)\n",
      "       Predict: 3.0\n",
      "      Else (feature 0 > 16.536)\n",
      "       Predict: 3.0\n",
      "     Else (feature 0 > 17.5992)\n",
      "      Predict: 3.0\n",
      "    Else (feature 0 > 18.6408)\n",
      "     If (feature 0 <= 20.3184)\n",
      "      Predict: 3.0\n",
      "     Else (feature 0 > 20.3184)\n",
      "      Predict: 3.0\n",
      "\n"
     ]
    }
   ],
   "source": [
    "print(dtc_model.toDebugString)"
   ]
  },
  {
   "cell_type": "code",
   "execution_count": null,
   "metadata": {},
   "outputs": [],
   "source": []
  },
  {
   "cell_type": "code",
   "execution_count": null,
   "metadata": {},
   "outputs": [],
   "source": []
  },
  {
   "cell_type": "code",
   "execution_count": null,
   "metadata": {},
   "outputs": [],
   "source": []
  },
  {
   "cell_type": "code",
   "execution_count": null,
   "metadata": {},
   "outputs": [],
   "source": [
    "\n"
   ]
  },
  {
   "cell_type": "code",
   "execution_count": null,
   "metadata": {},
   "outputs": [],
   "source": []
  },
  {
   "cell_type": "code",
   "execution_count": null,
   "metadata": {},
   "outputs": [],
   "source": []
  }
 ],
 "metadata": {
  "kernelspec": {
   "display_name": "Python 3",
   "language": "python",
   "name": "python3"
  },
  "language_info": {
   "codemirror_mode": {
    "name": "ipython",
    "version": 3
   },
   "file_extension": ".py",
   "mimetype": "text/x-python",
   "name": "python",
   "nbconvert_exporter": "python",
   "pygments_lexer": "ipython3",
   "version": "3.5.2"
  }
 },
 "nbformat": 4,
 "nbformat_minor": 2
}
