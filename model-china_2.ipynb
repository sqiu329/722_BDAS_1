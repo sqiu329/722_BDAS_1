{
 "cells": [
  {
   "cell_type": "code",
   "execution_count": null,
   "metadata": {},
   "outputs": [],
   "source": []
  },
  {
   "cell_type": "code",
   "execution_count": 1,
   "metadata": {},
   "outputs": [],
   "source": [
    "# Must be included at the beginning of each new notebook. Remember to change the app name.\n",
    "import findspark\n",
    "findspark.init('/home/ubuntu/spark-2.1.1-bin-hadoop2.7')\n",
    "import pyspark\n",
    "from pyspark.sql import SparkSession\n",
    "spark = SparkSession.builder.appName('722-model').getOrCreate()"
   ]
  },
  {
   "cell_type": "code",
   "execution_count": 2,
   "metadata": {
    "scrolled": true
   },
   "outputs": [
    {
     "name": "stdout",
     "output_type": "stream",
     "text": [
      "root\n",
      " |-- adm0_id: integer (nullable = true)\n",
      " |-- adm0_name: string (nullable = true)\n",
      " |-- adm1_id: integer (nullable = true)\n",
      " |-- adm1_name: string (nullable = true)\n",
      " |-- mkt_id: integer (nullable = true)\n",
      " |-- mkt_name: string (nullable = true)\n",
      " |-- cm_id: integer (nullable = true)\n",
      " |-- cm_name: string (nullable = true)\n",
      " |-- cur_id: integer (nullable = true)\n",
      " |-- cur_name: string (nullable = true)\n",
      " |-- pt_id: integer (nullable = true)\n",
      " |-- pt_name: string (nullable = true)\n",
      " |-- um_id: integer (nullable = true)\n",
      " |-- um_name: string (nullable = true)\n",
      " |-- mp_month: integer (nullable = true)\n",
      " |-- mp_year: integer (nullable = true)\n",
      " |-- mp_price_RMB: double (nullable = true)\n",
      "\n"
     ]
    }
   ],
   "source": [
    "data1= spark.read.csv(\"./data_china.csv\", header=True, inferSchema=True)\n",
    "data1.printSchema()"
   ]
  },
  {
   "cell_type": "code",
   "execution_count": 3,
   "metadata": {},
   "outputs": [],
   "source": [
    "from pyspark.ml.linalg import Vectors\n",
    "from pyspark.ml.feature import VectorAssembler\n",
    "assembler = VectorAssembler(\n",
    "  inputCols=['mp_price_RMB'],\n",
    "              outputCol=\"features\")\n",
    "output = assembler.transform(data1)\n",
    "from pyspark.ml.feature import StringIndexer\n",
    "indexer = StringIndexer(inputCol=\"mkt_name\", outputCol=\"PrivateIndex\")\n",
    "output_fixed = indexer.fit(output).transform(output)\n",
    "final_data = output_fixed.select(\"features\",'PrivateIndex')"
   ]
  },
  {
   "cell_type": "code",
   "execution_count": 4,
   "metadata": {},
   "outputs": [],
   "source": [
    "from pyspark.ml.classification import DecisionTreeClassifier,GBTClassifier,RandomForestClassifier\n",
    "from pyspark.ml import Pipeline\n",
    "dtc = DecisionTreeClassifier(labelCol='PrivateIndex',featuresCol='features')\n",
    "train_data,test_data = final_data.randomSplit([0.7,0.3])\n",
    "dtc_model = dtc.fit(train_data)\n",
    "dtc_predictions = dtc_model.transform(test_data)"
   ]
  },
  {
   "cell_type": "code",
   "execution_count": null,
   "metadata": {},
   "outputs": [],
   "source": []
  },
  {
   "cell_type": "code",
   "execution_count": 5,
   "metadata": {},
   "outputs": [],
   "source": [
    "# Let's start off with binary classification.\n",
    "from pyspark.ml.evaluation import BinaryClassificationEvaluator\n",
    "\n",
    "# Note that the label column isn't named label, it's named PrivateIndex in this case.\n",
    "my_binary_eval = BinaryClassificationEvaluator(labelCol = 'PrivateIndex')"
   ]
  },
  {
   "cell_type": "code",
   "execution_count": 6,
   "metadata": {},
   "outputs": [
    {
     "name": "stdout",
     "output_type": "stream",
     "text": [
      "DTC\n",
      "0.3850041946308725\n"
     ]
    }
   ],
   "source": [
    "print(\"DTC\")\n",
    "print(my_binary_eval.evaluate(dtc_predictions))"
   ]
  },
  {
   "cell_type": "code",
   "execution_count": 7,
   "metadata": {},
   "outputs": [
    {
     "name": "stdout",
     "output_type": "stream",
     "text": [
      "+--------+------------+--------------------+--------------------+----------+\n",
      "|features|PrivateIndex|       rawPrediction|         probability|prediction|\n",
      "+--------+------------+--------------------+--------------------+----------+\n",
      "| [1.315]|         5.0|[0.0,0.0,0.0,0.0,...|[0.0,0.0,0.0,0.0,...|       5.0|\n",
      "|[1.3375]|         5.0|[0.0,0.0,0.0,0.0,...|[0.0,0.0,0.0,0.0,...|       5.0|\n",
      "| [1.445]|         5.0|[0.0,0.0,0.0,0.0,...|[0.0,0.0,0.0,0.0,...|       5.0|\n",
      "| [1.472]|         5.0|[0.0,0.0,0.0,0.0,...|[0.0,0.0,0.0,0.0,...|       5.0|\n",
      "|[1.5025]|         5.0|[0.0,0.0,0.0,0.0,...|[0.0,0.0,0.0,0.0,...|       5.0|\n",
      "|[1.5325]|         7.0|[0.0,0.0,0.0,0.0,...|[0.0,0.0,0.0,0.0,...|       5.0|\n",
      "| [1.545]|         5.0|[0.0,0.0,0.0,0.0,...|[0.0,0.0,0.0,0.0,...|       5.0|\n",
      "|[1.5567]|         4.0|[0.0,0.0,0.0,0.0,...|[0.0,0.0,0.0,0.0,...|       5.0|\n",
      "|[1.5613]|         4.0|[0.0,0.0,0.0,0.0,...|[0.0,0.0,0.0,0.0,...|       5.0|\n",
      "|[1.5625]|         5.0|[0.0,0.0,0.0,0.0,...|[0.0,0.0,0.0,0.0,...|       5.0|\n",
      "|[1.5775]|         4.0|[0.0,0.0,0.0,0.0,...|[0.0,0.0,0.0,0.0,...|       5.0|\n",
      "|  [1.59]|         5.0|[0.0,0.0,0.0,0.0,...|[0.0,0.0,0.0,0.0,...|       5.0|\n",
      "|  [1.59]|         5.0|[0.0,0.0,0.0,0.0,...|[0.0,0.0,0.0,0.0,...|       5.0|\n",
      "|[1.5967]|         7.0|[0.0,0.0,0.0,0.0,...|[0.0,0.0,0.0,0.0,...|       5.0|\n",
      "|[1.5975]|         5.0|[0.0,0.0,0.0,0.0,...|[0.0,0.0,0.0,0.0,...|       5.0|\n",
      "|[1.5988]|         7.0|[0.0,0.0,0.0,0.0,...|[0.0,0.0,0.0,0.0,...|       5.0|\n",
      "|  [1.61]|         5.0|[0.0,0.0,0.0,0.0,...|[0.0,0.0,0.0,0.0,...|       5.0|\n",
      "| [1.615]|         7.0|[0.0,0.0,0.0,0.0,...|[0.0,0.0,0.0,0.0,...|       5.0|\n",
      "|  [1.63]|         5.0|[0.0,0.0,0.0,0.0,...|[0.0,0.0,0.0,0.0,...|       5.0|\n",
      "|[1.6488]|         7.0|[0.0,0.0,0.0,0.0,...|[0.0,0.0,0.0,0.0,...|       4.0|\n",
      "+--------+------------+--------------------+--------------------+----------+\n",
      "only showing top 20 rows\n",
      "\n",
      "----------------------------------------\n",
      "A single decision tree has an accuracy of: 52.38%\n"
     ]
    }
   ],
   "source": [
    "dtc_predictions.show()\n",
    "from pyspark.ml.evaluation import MulticlassClassificationEvaluator\n",
    "acc_evaluator = MulticlassClassificationEvaluator(labelCol=\"PrivateIndex\", predictionCol=\"prediction\", metricName=\"accuracy\")\n",
    "dtc_acc = acc_evaluator.evaluate(dtc_predictions)\n",
    "print('-'*40)\n",
    "print('A single decision tree has an accuracy of: {0:2.2f}%'.format(dtc_acc*100))\n"
   ]
  },
  {
   "cell_type": "code",
   "execution_count": 10,
   "metadata": {
    "scrolled": true
   },
   "outputs": [
    {
     "name": "stdout",
     "output_type": "stream",
     "text": [
      "+--------+------------+\n",
      "|features|PrivateIndex|\n",
      "+--------+------------+\n",
      "|[2.6567]|         6.0|\n",
      "|  [2.61]|         6.0|\n",
      "| [2.616]|         6.0|\n",
      "|  [2.57]|         6.0|\n",
      "|  [2.54]|         6.0|\n",
      "| [2.516]|         6.0|\n",
      "|  [2.54]|         6.0|\n",
      "|[2.5775]|         6.0|\n",
      "|  [2.62]|         6.0|\n",
      "|[2.6175]|         6.0|\n",
      "| [2.594]|         6.0|\n",
      "| [2.595]|         6.0|\n",
      "|   [2.6]|         6.0|\n",
      "|  [2.58]|         6.0|\n",
      "| [2.582]|         6.0|\n",
      "| [2.595]|         6.0|\n",
      "| [2.552]|         6.0|\n",
      "|  [2.47]|         6.0|\n",
      "|  [2.45]|         6.0|\n",
      "| [2.444]|         6.0|\n",
      "+--------+------------+\n",
      "only showing top 20 rows\n",
      "\n",
      "+------------+\n",
      "|    mkt_name|\n",
      "+------------+\n",
      "|       Hubei|\n",
      "|       Wuhan|\n",
      "|   Zhengzhou|\n",
      "|Heilongjiang|\n",
      "|       Jilin|\n",
      "|       Linyi|\n",
      "|    Jiujiang|\n",
      "|    Yuncheng|\n",
      "|    Hangzhou|\n",
      "| Sijiazhuang|\n",
      "|    Shandong|\n",
      "+------------+\n",
      "\n",
      "+------------+\n",
      "|PrivateIndex|\n",
      "+------------+\n",
      "|         8.0|\n",
      "|         0.0|\n",
      "|         7.0|\n",
      "|         1.0|\n",
      "|         4.0|\n",
      "|         3.0|\n",
      "|         2.0|\n",
      "|        10.0|\n",
      "|         6.0|\n",
      "|         5.0|\n",
      "|         9.0|\n",
      "+------------+\n",
      "\n"
     ]
    }
   ],
   "source": [
    "from pyspark.sql import SparkSession\n",
    "from pyspark.sql import Row\n",
    "from pyspark.sql.types import *\n",
    "from pyspark.sql.functions import *\n",
    "final_data.show()\n",
    "data1.select('mkt_name').distinct().show()\n",
    "final_data.select('PrivateIndex').distinct().show()"
   ]
  },
  {
   "cell_type": "code",
   "execution_count": 9,
   "metadata": {},
   "outputs": [
    {
     "name": "stdout",
     "output_type": "stream",
     "text": [
      "DecisionTreeClassificationModel (uid=DecisionTreeClassifier_4bd7944fb6860fa3242e) of depth 5 with 47 nodes\n",
      "  If (feature 0 <= 2.5867)\n",
      "   If (feature 0 <= 2.255)\n",
      "    If (feature 0 <= 1.7925)\n",
      "     If (feature 0 <= 1.63)\n",
      "      Predict: 5.0\n",
      "     Else (feature 0 > 1.63)\n",
      "      If (feature 0 <= 1.6933)\n",
      "       Predict: 4.0\n",
      "      Else (feature 0 > 1.6933)\n",
      "       Predict: 4.0\n",
      "    Else (feature 0 > 1.7925)\n",
      "     If (feature 0 <= 1.922)\n",
      "      Predict: 7.0\n",
      "     Else (feature 0 > 1.922)\n",
      "      Predict: 4.0\n",
      "   Else (feature 0 > 2.255)\n",
      "    If (feature 0 <= 2.4019999999999997)\n",
      "     If (feature 0 <= 2.3125)\n",
      "      Predict: 9.0\n",
      "     Else (feature 0 > 2.3125)\n",
      "      If (feature 0 <= 2.3725)\n",
      "       Predict: 9.0\n",
      "      Else (feature 0 > 2.3725)\n",
      "       Predict: 9.0\n",
      "    Else (feature 0 > 2.4019999999999997)\n",
      "     If (feature 0 <= 2.492)\n",
      "      If (feature 0 <= 2.455)\n",
      "       Predict: 9.0\n",
      "      Else (feature 0 > 2.455)\n",
      "       Predict: 6.0\n",
      "     Else (feature 0 > 2.492)\n",
      "      If (feature 0 <= 2.552)\n",
      "       Predict: 6.0\n",
      "      Else (feature 0 > 2.552)\n",
      "       Predict: 6.0\n",
      "  Else (feature 0 > 2.5867)\n",
      "   If (feature 0 <= 4.6)\n",
      "    If (feature 0 <= 3.52)\n",
      "     If (feature 0 <= 3.36)\n",
      "      If (feature 0 <= 3.355)\n",
      "       Predict: 1.0\n",
      "      Else (feature 0 > 3.355)\n",
      "       Predict: 0.0\n",
      "     Else (feature 0 > 3.36)\n",
      "      If (feature 0 <= 3.4)\n",
      "       Predict: 2.0\n",
      "      Else (feature 0 > 3.4)\n",
      "       Predict: 2.0\n",
      "    Else (feature 0 > 3.52)\n",
      "     If (feature 0 <= 3.96)\n",
      "      If (feature 0 <= 3.91)\n",
      "       Predict: 1.0\n",
      "      Else (feature 0 > 3.91)\n",
      "       Predict: 1.0\n",
      "     Else (feature 0 > 3.96)\n",
      "      If (feature 0 <= 4.28)\n",
      "       Predict: 0.0\n",
      "      Else (feature 0 > 4.28)\n",
      "       Predict: 1.0\n",
      "   Else (feature 0 > 4.6)\n",
      "    If (feature 0 <= 4.88)\n",
      "     If (feature 0 <= 4.78)\n",
      "      Predict: 8.0\n",
      "     Else (feature 0 > 4.78)\n",
      "      If (feature 0 <= 4.82)\n",
      "       Predict: 2.0\n",
      "      Else (feature 0 > 4.82)\n",
      "       Predict: 2.0\n",
      "    Else (feature 0 > 4.88)\n",
      "     Predict: 2.0\n",
      "\n"
     ]
    }
   ],
   "source": [
    "print(dtc_model.toDebugString)"
   ]
  },
  {
   "cell_type": "code",
   "execution_count": null,
   "metadata": {},
   "outputs": [],
   "source": []
  },
  {
   "cell_type": "code",
   "execution_count": null,
   "metadata": {},
   "outputs": [],
   "source": []
  },
  {
   "cell_type": "code",
   "execution_count": null,
   "metadata": {},
   "outputs": [],
   "source": []
  },
  {
   "cell_type": "code",
   "execution_count": null,
   "metadata": {},
   "outputs": [],
   "source": [
    "\n"
   ]
  },
  {
   "cell_type": "code",
   "execution_count": null,
   "metadata": {},
   "outputs": [],
   "source": []
  },
  {
   "cell_type": "code",
   "execution_count": null,
   "metadata": {},
   "outputs": [],
   "source": []
  }
 ],
 "metadata": {
  "kernelspec": {
   "display_name": "Python 3",
   "language": "python",
   "name": "python3"
  },
  "language_info": {
   "codemirror_mode": {
    "name": "ipython",
    "version": 3
   },
   "file_extension": ".py",
   "mimetype": "text/x-python",
   "name": "python",
   "nbconvert_exporter": "python",
   "pygments_lexer": "ipython3",
   "version": "3.5.2"
  }
 },
 "nbformat": 4,
 "nbformat_minor": 2
}
